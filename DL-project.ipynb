{
  "nbformat": 4,
  "nbformat_minor": 0,
  "metadata": {
    "colab": {
      "provenance": []
    },
    "kernelspec": {
      "name": "python3",
      "display_name": "Python 3"
    },
    "language_info": {
      "name": "python"
    },
    "accelerator": "GPU"
  },
  "cells": [
    {
      "cell_type": "code",
      "metadata": {
        "colab": {
          "base_uri": "https://localhost:8080/"
        },
        "id": "0HgUaKlvunDr",
        "outputId": "3a34be62-63c6-46a7-e057-669d96b9beba"
      },
      "source": [
        "\n",
        "!mkdir '/tmp/weather'\n",
        "!wget --no-check-certificate \\\n",
        "      https://md-datasets-cache-zipfiles-prod.s3.eu-west-1.amazonaws.com/4drtyfjtfy-1.zip -O /tmp/weather/weather.zip\n",
        "\n",
        "import os\n",
        "import zipfile\n",
        "\n",
        "local_zip = '/tmp/weather/weather.zip'\n",
        "zip_ref = zipfile.ZipFile(local_zip, 'r')\n",
        "zip_ref.extractall('/tmp/weather')\n",
        "zip_ref.close()\n",
        "\n",
        "\n",
        "local_zip = '/tmp/weather/dataset2.zip'\n",
        "zip_ref = zipfile.ZipFile(local_zip, 'r')\n",
        "zip_ref.extractall('/tmp/weather')\n",
        "zip_ref.close()\n",
        "\n",
        "base_dir = '/tmp/weather/dataset2'\n",
        "train_dir = os.path.join(base_dir, 'train')\n",
        "validation_dir = os.path.join(base_dir, 'validation')\n",
        "\n",
        "!apt-get -qq install -y graphviz && pip install split_folders\n",
        "\n",
        "import os.path, shutil\n",
        "import re\n",
        "\n",
        "\n",
        "#making a folder for each category\n",
        "r = re.compile(\"([a-zA-Z]+)\")\n",
        "folder_path = \"/tmp/weather/dataset2\"\n",
        "\n",
        "images = [f for f in os.listdir(folder_path) if os.path.isfile(os.path.join(folder_path, f))]\n",
        "\n",
        "for image in images:\n",
        "    folder_name = r.match(image)\n",
        "    folder_name=folder_name.group(1)\n",
        "    new_path = os.path.join(folder_path, folder_name)\n",
        "    if not os.path.exists(new_path):\n",
        "        os.makedirs(new_path)\n",
        "\n",
        "    old_image_path = os.path.join(folder_path, image)\n",
        "    new_image_path = os.path.join(new_path, image)\n",
        "    shutil.move(old_image_path, new_image_path)\n",
        "    \n",
        "\n",
        "import splitfolders\n",
        "folder_path = \"/tmp/weather/dataset2\"\n",
        "#split the tada to 20 % test and 80% tarin and put the data in folder\n",
        "splitfolders.ratio(folder_path,output=folder_path+\"/split_data\", seed=1337, ratio=(.8, 0.2))\n",
        "\n",
        "train_dir='/tmp/weather/dataset2/split_data/train'\n",
        "validation_dir='/tmp/weather/dataset2/split_data/val'\n"
      ],
      "execution_count": null,
      "outputs": [
        {
          "output_type": "stream",
          "text": [
            "--2021-06-10 17:32:08--  https://md-datasets-cache-zipfiles-prod.s3.eu-west-1.amazonaws.com/4drtyfjtfy-1.zip\n",
            "Resolving md-datasets-cache-zipfiles-prod.s3.eu-west-1.amazonaws.com (md-datasets-cache-zipfiles-prod.s3.eu-west-1.amazonaws.com)... 52.218.105.139\n",
            "Connecting to md-datasets-cache-zipfiles-prod.s3.eu-west-1.amazonaws.com (md-datasets-cache-zipfiles-prod.s3.eu-west-1.amazonaws.com)|52.218.105.139|:443... connected.\n",
            "HTTP request sent, awaiting response... 200 OK\n",
            "Length: 95592747 (91M) [application/octet-stream]\n",
            "Saving to: ‘/tmp/weather/weather.zip’\n",
            "\n",
            "/tmp/weather/weathe 100%[===================>]  91.16M  19.2MB/s    in 5.7s    \n",
            "\n",
            "2021-06-10 17:32:14 (16.0 MB/s) - ‘/tmp/weather/weather.zip’ saved [95592747/95592747]\n",
            "\n",
            "Collecting split_folders\n",
            "  Downloading https://files.pythonhosted.org/packages/b8/5f/3c2b2f7ea5e047c8cdc3bb00ae582c5438fcdbbedcc23b3cc1c2c7aae642/split_folders-0.4.3-py3-none-any.whl\n",
            "Installing collected packages: split-folders\n",
            "Successfully installed split-folders-0.4.3\n"
          ],
          "name": "stdout"
        },
        {
          "output_type": "stream",
          "text": [
            "Copying files: 1125 files [00:00, 4184.20 files/s]\n"
          ],
          "name": "stderr"
        }
      ]
    },
    {
      "cell_type": "code",
      "metadata": {
        "id": "CpXwsD4mvRkF"
      },
      "source": [
        "#function for print the model's accuracy of both training and testing and their loss\n",
        "\n",
        "def printfun(history):\n",
        "  # Retrieve a list of accuracy results on training and validation data\n",
        "  # sets for each training epoch\n",
        "  acc = history.history['acc']\n",
        "  val_acc = history.history['val_acc']\n",
        "\n",
        "# Retrieve a list of list results on training and validation data\n",
        "# sets for each training epoch\n",
        "  loss = history.history['loss']\n",
        "  val_loss = history.history['val_loss']\n",
        "\n",
        "# Get number of epochs\n",
        "  epochs = range(len(acc))\n",
        "\n",
        "# Plot training and validation accuracy per epoch\n",
        "  plt.plot(epochs, acc)\n",
        "  plt.plot(epochs, val_acc)\n",
        "  plt.title('Training and validation accuracy')\n",
        "\n",
        "  plt.figure()\n",
        "\n",
        "# Plot training and validation loss per epoch\n",
        "  plt.plot(epochs, loss)\n",
        "  plt.plot(epochs, val_loss)\n",
        "  plt.title('Training and validation loss')"
      ],
      "execution_count": null,
      "outputs": []
    },
    {
      "cell_type": "code",
      "metadata": {
        "id": "vk4RdNvpvSZb"
      },
      "source": [
        "from tensorflow.keras import layers\n",
        "from tensorflow.keras import Model\n",
        "from tensorflow import keras\n",
        "from tensorflow.keras.optimizers import RMSprop\n",
        "import matplotlib.pyplot as plt\n",
        "from tensorflow.keras.preprocessing.image import ImageDataGenerator\n",
        "from tensorflow.keras.optimizers import RMSprop\n",
        "from tensorflow.keras import layers\n",
        "from tensorflow.keras import Model\n",
        "from tensorflow import keras\n",
        "from keras.applications.vgg16 import VGG16\n",
        "from keras.models import Model\n",
        "from keras.layers import Dense\n",
        "from keras.layers import Flatten\n",
        "from keras.optimizers import SGD\n",
        "from keras.preprocessing.image import ImageDataGenerator\n",
        "from keras.layers import Dropout "
      ],
      "execution_count": null,
      "outputs": []
    },
    {
      "cell_type": "code",
      "metadata": {
        "colab": {
          "base_uri": "https://localhost:8080/"
        },
        "id": "0voxYioeFTzj",
        "outputId": "fcd34ba4-9109-4302-b826-30bdd31d0eb1"
      },
      "source": [
        "img_input = layers.Input(shape=(150, 150,3))\n",
        "\n",
        "model66 = keras.Sequential(\n",
        "    [\n",
        "        layers.Input(shape=(150, 150, 3)),\n",
        "        layers.Conv2D(16, 3, activation='relu'),\n",
        "        layers.MaxPooling2D(2),\n",
        "        layers.Conv2D(64, 3, activation='relu'),\n",
        "        layers.MaxPooling2D(2),\n",
        "        layers.MaxPooling2D(2),\n",
        "        layers.Flatten(),\n",
        "        layers.Dense(512, activation='relu'),\n",
        "        layers.Dense(1, activation='sigmoid'),\n",
        "    ]\n",
        ")\n",
        "model66.summary()"
      ],
      "execution_count": null,
      "outputs": [
        {
          "output_type": "stream",
          "text": [
            "WARNING:tensorflow:Please add `keras.layers.InputLayer` instead of `keras.Input` to Sequential model. `keras.Input` is intended to be used by Functional model.\n",
            "Model: \"sequential_2\"\n",
            "_________________________________________________________________\n",
            "Layer (type)                 Output Shape              Param #   \n",
            "=================================================================\n",
            "conv2d_4 (Conv2D)            (None, 148, 148, 16)      448       \n",
            "_________________________________________________________________\n",
            "max_pooling2d_6 (MaxPooling2 (None, 74, 74, 16)        0         \n",
            "_________________________________________________________________\n",
            "conv2d_5 (Conv2D)            (None, 72, 72, 64)        9280      \n",
            "_________________________________________________________________\n",
            "max_pooling2d_7 (MaxPooling2 (None, 36, 36, 64)        0         \n",
            "_________________________________________________________________\n",
            "max_pooling2d_8 (MaxPooling2 (None, 18, 18, 64)        0         \n",
            "_________________________________________________________________\n",
            "flatten_2 (Flatten)          (None, 20736)             0         \n",
            "_________________________________________________________________\n",
            "dense_4 (Dense)              (None, 512)               10617344  \n",
            "_________________________________________________________________\n",
            "dense_5 (Dense)              (None, 1)                 513       \n",
            "=================================================================\n",
            "Total params: 10,627,585\n",
            "Trainable params: 10,627,585\n",
            "Non-trainable params: 0\n",
            "_________________________________________________________________\n"
          ],
          "name": "stdout"
        }
      ]
    },
    {
      "cell_type": "code",
      "metadata": {
        "colab": {
          "base_uri": "https://localhost:8080/"
        },
        "id": "hdQZFORAvrFR",
        "outputId": "47cb4348-cab9-4360-e644-e4090896d2fc"
      },
      "source": [
        "#model 1 with dropout and no data auggmentation, batch size of 32\n",
        "\n",
        "img_input = layers.Input(shape=(150, 150, 3))\n",
        "model = keras.Sequential(\n",
        "    [\n",
        "        layers.Input(shape=(150, 150, 3)),\n",
        "        layers.Conv2D(16, 3, activation='relu'),\n",
        "        layers.MaxPooling2D(2),\n",
        "        layers.Conv2D(32, 3, activation='relu'),\n",
        "        layers.MaxPooling2D(2),\n",
        "        # Third convolution extracts 64 filters that are 3x3\n",
        "        # Convolution is followed by max-pooling layer with a 2x2 window\n",
        "        layers.Conv2D(64, 3, activation='relu'),\n",
        "        layers.MaxPooling2D(2),\n",
        "        # Flatten feature map to a 1-dim tensor so we can add fully connected layers\n",
        "        layers.Flatten(),\n",
        "        layers.Dropout(0.5), #with dropout!\n",
        "        layers.Dense(512, activation='relu'),\n",
        "        layers.Dense(4, activation='softmax'),#there are 4 categories so in the last layer we have 4 vertexes and we use softmax.\n",
        "    ]\n",
        ")\n",
        "\n",
        "model.summary()"
      ],
      "execution_count": null,
      "outputs": [
        {
          "output_type": "stream",
          "text": [
            "WARNING:tensorflow:Please add `keras.layers.InputLayer` instead of `keras.Input` to Sequential model. `keras.Input` is intended to be used by Functional model.\n",
            "Model: \"sequential_3\"\n",
            "_________________________________________________________________\n",
            "Layer (type)                 Output Shape              Param #   \n",
            "=================================================================\n",
            "conv2d_9 (Conv2D)            (None, 148, 148, 16)      448       \n",
            "_________________________________________________________________\n",
            "max_pooling2d_9 (MaxPooling2 (None, 74, 74, 16)        0         \n",
            "_________________________________________________________________\n",
            "conv2d_10 (Conv2D)           (None, 72, 72, 32)        4640      \n",
            "_________________________________________________________________\n",
            "max_pooling2d_10 (MaxPooling (None, 36, 36, 32)        0         \n",
            "_________________________________________________________________\n",
            "conv2d_11 (Conv2D)           (None, 34, 34, 64)        18496     \n",
            "_________________________________________________________________\n",
            "max_pooling2d_11 (MaxPooling (None, 17, 17, 64)        0         \n",
            "_________________________________________________________________\n",
            "flatten_3 (Flatten)          (None, 18496)             0         \n",
            "_________________________________________________________________\n",
            "dropout_3 (Dropout)          (None, 18496)             0         \n",
            "_________________________________________________________________\n",
            "dense_6 (Dense)              (None, 512)               9470464   \n",
            "_________________________________________________________________\n",
            "dense_7 (Dense)              (None, 4)                 2052      \n",
            "=================================================================\n",
            "Total params: 9,496,100\n",
            "Trainable params: 9,496,100\n",
            "Non-trainable params: 0\n",
            "_________________________________________________________________\n"
          ],
          "name": "stdout"
        }
      ]
    },
    {
      "cell_type": "code",
      "metadata": {
        "colab": {
          "base_uri": "https://localhost:8080/"
        },
        "id": "05FbvPT5OGXJ",
        "outputId": "f03e062f-cbbb-49ef-cea4-9e699608f4d1"
      },
      "source": [
        "\n",
        "\n",
        "model.compile(loss='categorical_crossentropy',optimizer=RMSprop(lr=0.001),metrics=['acc'])\n",
        "\n",
        "# All images will be rescaled by 1./255\n",
        "train_datagen = ImageDataGenerator(rescale=1./255)\n",
        "val_datagen = ImageDataGenerator(rescale=1./255)\n",
        "\n",
        "# Flow training images in batches of 20 using train_datagen generator\n",
        "train_generator = train_datagen.flow_from_directory(\n",
        "        train_dir,  # This is the source directory for training images\n",
        "        target_size=(150, 150),  # All images will be resized to 150x150\n",
        "        batch_size=16,\n",
        "        # Since we use binary_crossentropy loss, we need binary labels\n",
        "        class_mode='categorical')\n",
        "\n",
        "# Flow validation images in batches of 20 using val_datagen generator\n",
        "validation_generator = val_datagen.flow_from_directory(\n",
        "        validation_dir,\n",
        "        target_size=(150, 150),\n",
        "        batch_size=32,\n",
        "        class_mode='categorical')\n",
        "\n",
        "history1 = model.fit_generator(\n",
        "      train_generator,\n",
        "      epochs=9,\n",
        "      steps_per_epoch=28,#images = batch_size * steps\n",
        "      validation_data=validation_generator,\n",
        "      validation_steps=7,\n",
        "      verbose=1)"
      ],
      "execution_count": null,
      "outputs": [
        {
          "output_type": "stream",
          "text": [
            "/usr/local/lib/python3.7/dist-packages/tensorflow/python/keras/optimizer_v2/optimizer_v2.py:375: UserWarning: The `lr` argument is deprecated, use `learning_rate` instead.\n",
            "  \"The `lr` argument is deprecated, use `learning_rate` instead.\")\n"
          ],
          "name": "stderr"
        },
        {
          "output_type": "stream",
          "text": [
            "Found 899 images belonging to 4 classes.\n",
            "Found 226 images belonging to 4 classes.\n"
          ],
          "name": "stdout"
        },
        {
          "output_type": "stream",
          "text": [
            "/usr/local/lib/python3.7/dist-packages/tensorflow/python/keras/engine/training.py:1940: UserWarning: `Model.fit_generator` is deprecated and will be removed in a future version. Please use `Model.fit`, which supports generators.\n",
            "  warnings.warn('`Model.fit_generator` is deprecated and '\n"
          ],
          "name": "stderr"
        },
        {
          "output_type": "stream",
          "text": [
            "Epoch 1/9\n",
            "28/28 [==============================] - 6s 168ms/step - loss: 0.3212 - acc: 0.9487 - val_loss: 0.5248 - val_acc: 0.9062\n",
            "Epoch 2/9\n",
            "28/28 [==============================] - 4s 146ms/step - loss: 0.0939 - acc: 0.9821 - val_loss: 0.3881 - val_acc: 0.9420\n",
            "Epoch 3/9\n",
            "28/28 [==============================] - 4s 145ms/step - loss: 0.1240 - acc: 0.9576 - val_loss: 0.4417 - val_acc: 0.9241\n",
            "Epoch 4/9\n",
            "28/28 [==============================] - 4s 154ms/step - loss: 0.0660 - acc: 0.9839 - val_loss: 0.5306 - val_acc: 0.9330\n",
            "Epoch 5/9\n",
            "28/28 [==============================] - 4s 142ms/step - loss: 0.0875 - acc: 0.9777 - val_loss: 0.4908 - val_acc: 0.9107\n",
            "Epoch 6/9\n",
            "28/28 [==============================] - 4s 148ms/step - loss: 0.0670 - acc: 0.9799 - val_loss: 0.5880 - val_acc: 0.9152\n",
            "Epoch 7/9\n",
            "28/28 [==============================] - 4s 143ms/step - loss: 0.1127 - acc: 0.9799 - val_loss: 0.4880 - val_acc: 0.9152\n",
            "Epoch 8/9\n",
            "28/28 [==============================] - 4s 148ms/step - loss: 0.0741 - acc: 0.9747 - val_loss: 0.6053 - val_acc: 0.9375\n",
            "Epoch 9/9\n",
            "28/28 [==============================] - 4s 147ms/step - loss: 0.0291 - acc: 0.9816 - val_loss: 0.5834 - val_acc: 0.9196\n"
          ],
          "name": "stdout"
        }
      ]
    },
    {
      "cell_type": "code",
      "metadata": {
        "colab": {
          "base_uri": "https://localhost:8080/",
          "height": 545
        },
        "id": "LLE8dyshOZmM",
        "outputId": "cde59831-f30e-4d0a-e925-a161a660a617"
      },
      "source": [
        "printfun(history1)"
      ],
      "execution_count": null,
      "outputs": [
        {
          "output_type": "display_data",
          "data": {
            "image/png": "[encoded data removed]",
            "text/plain": [
              "<Figure size 432x288 with 1 Axes>"
            ]
          },
          "metadata": {
            "tags": [],
            "needs_background": "light"
          }
        },
        {
          "output_type": "display_data",
          "data": {
            "image/png": "[encoded data removed]",
            "text/plain": [
              "<Figure size 432x288 with 1 Axes>"
            ]
          },
          "metadata": {
            "tags": [],
            "needs_background": "light"
          }
        }
      ]
    },
    {
      "cell_type": "code",
      "metadata": {
        "colab": {
          "base_uri": "https://localhost:8080/"
        },
        "id": "OAwUEIwNy0bn",
        "outputId": "ac9ec9a3-8830-46c2-945b-cbba72d36870"
      },
      "source": [
        "#model 2 with dropout and data auggmentation, batch size 16\n",
        "img_input = layers.Input(shape=(150, 150, 3))\n",
        "\n",
        "model1 = keras.Sequential(\n",
        "    [\n",
        "        layers.Input(shape=(150, 150, 3)),\n",
        "        layers.Conv2D(16, 3, activation='relu'),\n",
        "        layers.MaxPooling2D(2),\n",
        "        layers.Conv2D(32, 3, activation='relu'),\n",
        "        layers.MaxPooling2D(2),\n",
        "        # Third convolution extracts 64 filters that are 3x3\n",
        "        # Convolution is followed by max-pooling layer with a 2x2 window\n",
        "        layers.Conv2D(64, 3, activation='relu'),\n",
        "        layers.MaxPooling2D(2),\n",
        "        # Flatten feature map to a 1-dim tensor so we can add fully connected layers\n",
        "        layers.Flatten(),\n",
        "        layers.Dropout(0.5), #only change!\n",
        "        layers.Dense(512, activation='relu'),\n",
        "       layers.Dense(4, activation='softmax'), #there are 4 categories so in the last layer we have 4 vertexes and we use softmax.\n",
        "    ]\n",
        ")\n",
        "\n",
        "model1.summary()"
      ],
      "execution_count": null,
      "outputs": [
        {
          "output_type": "stream",
          "text": [
            "WARNING:tensorflow:Please add `keras.layers.InputLayer` instead of `keras.Input` to Sequential model. `keras.Input` is intended to be used by Functional model.\n",
            "Model: \"sequential_4\"\n",
            "_________________________________________________________________\n",
            "Layer (type)                 Output Shape              Param #   \n",
            "=================================================================\n",
            "conv2d_12 (Conv2D)           (None, 148, 148, 16)      448       \n",
            "_________________________________________________________________\n",
            "max_pooling2d_12 (MaxPooling (None, 74, 74, 16)        0         \n",
            "_________________________________________________________________\n",
            "conv2d_13 (Conv2D)           (None, 72, 72, 32)        4640      \n",
            "_________________________________________________________________\n",
            "max_pooling2d_13 (MaxPooling (None, 36, 36, 32)        0         \n",
            "_________________________________________________________________\n",
            "conv2d_14 (Conv2D)           (None, 34, 34, 64)        18496     \n",
            "_________________________________________________________________\n",
            "max_pooling2d_14 (MaxPooling (None, 17, 17, 64)        0         \n",
            "_________________________________________________________________\n",
            "flatten_4 (Flatten)          (None, 18496)             0         \n",
            "_________________________________________________________________\n",
            "dropout_4 (Dropout)          (None, 18496)             0         \n",
            "_________________________________________________________________\n",
            "dense_8 (Dense)              (None, 512)               9470464   \n",
            "_________________________________________________________________\n",
            "dense_9 (Dense)              (None, 4)                 2052      \n",
            "=================================================================\n",
            "Total params: 9,496,100\n",
            "Trainable params: 9,496,100\n",
            "Non-trainable params: 0\n",
            "_________________________________________________________________\n"
          ],
          "name": "stdout"
        }
      ]
    },
    {
      "cell_type": "code",
      "metadata": {
        "colab": {
          "base_uri": "https://localhost:8080/"
        },
        "id": "uKiwr46hEm54",
        "outputId": "2079151b-aff1-41f9-a5cf-0ddcf98756d0"
      },
      "source": [
        "\n",
        "model1.compile(loss='categorical_crossentropy',optimizer=RMSprop(lr=0.001),metrics=['acc'])\n",
        "train_datagen = ImageDataGenerator(\n",
        "    rescale=1./255,\n",
        "    rotation_range=40,\n",
        "    width_shift_range=0.2,\n",
        "    height_shift_range=0.2,\n",
        "    shear_range=0.2,\n",
        "    zoom_range=0.2,\n",
        "    horizontal_flip=True,)\n",
        "\n",
        "val_datagen = ImageDataGenerator(rescale=1./255)\n",
        "\n",
        "# Flow training images in batches of 20 using train_datagen generator\n",
        "train_generator = train_datagen.flow_from_directory(\n",
        "        train_dir,  # This is the source directory for training images\n",
        "        target_size=(150, 150),  # All images will be resized to 150x150\n",
        "        batch_size=16,\n",
        "        # Since we use binary_crossentropy loss, we need binary labels\n",
        "        class_mode='categorical')\n",
        "\n",
        "# Flow validation images in batches of 20 using val_datagen generator\n",
        "validation_generator = val_datagen.flow_from_directory(\n",
        "        validation_dir,\n",
        "        target_size=(150, 150),\n",
        "        batch_size=16,\n",
        "        class_mode='categorical')\n",
        "\n",
        "history2 = model1.fit_generator(\n",
        "      train_generator,\n",
        "      epochs=9,\n",
        "      steps_per_epoch=54,#images = batch_size * steps\n",
        "      validation_data=validation_generator,\n",
        "      validation_steps=15,\n",
        "      verbose=1)"
      ],
      "execution_count": null,
      "outputs": [
        {
          "output_type": "stream",
          "text": [
            "/usr/local/lib/python3.7/dist-packages/tensorflow/python/keras/optimizer_v2/optimizer_v2.py:375: UserWarning: The `lr` argument is deprecated, use `learning_rate` instead.\n",
            "  \"The `lr` argument is deprecated, use `learning_rate` instead.\")\n"
          ],
          "name": "stderr"
        },
        {
          "output_type": "stream",
          "text": [
            "Found 899 images belonging to 4 classes.\n",
            "Found 226 images belonging to 4 classes.\n"
          ],
          "name": "stdout"
        },
        {
          "output_type": "stream",
          "text": [
            "/usr/local/lib/python3.7/dist-packages/tensorflow/python/keras/engine/training.py:1940: UserWarning: `Model.fit_generator` is deprecated and will be removed in a future version. Please use `Model.fit`, which supports generators.\n",
            "  warnings.warn('`Model.fit_generator` is deprecated and '\n"
          ],
          "name": "stderr"
        },
        {
          "output_type": "stream",
          "text": [
            "Epoch 1/9\n",
            "54/54 [==============================] - 11s 188ms/step - loss: 0.4172 - acc: 0.8684 - val_loss: 0.2436 - val_acc: 0.9115\n",
            "Epoch 2/9\n",
            "54/54 [==============================] - 10s 184ms/step - loss: 0.3398 - acc: 0.8778 - val_loss: 0.6363 - val_acc: 0.8142\n",
            "Epoch 3/9\n",
            "54/54 [==============================] - 10s 184ms/step - loss: 0.3096 - acc: 0.8813 - val_loss: 0.2789 - val_acc: 0.9071\n",
            "Epoch 4/9\n",
            "54/54 [==============================] - 10s 184ms/step - loss: 0.3007 - acc: 0.8907 - val_loss: 0.3911 - val_acc: 0.8761\n",
            "Epoch 5/9\n",
            "54/54 [==============================] - 10s 179ms/step - loss: 0.3310 - acc: 0.8778 - val_loss: 0.2484 - val_acc: 0.9115\n",
            "Epoch 6/9\n",
            "54/54 [==============================] - 10s 187ms/step - loss: 0.2886 - acc: 0.9048 - val_loss: 0.2007 - val_acc: 0.9115\n",
            "Epoch 7/9\n",
            "54/54 [==============================] - 10s 184ms/step - loss: 0.2904 - acc: 0.8954 - val_loss: 0.3864 - val_acc: 0.8717\n",
            "Epoch 8/9\n",
            "54/54 [==============================] - 10s 183ms/step - loss: 0.3048 - acc: 0.8966 - val_loss: 0.2229 - val_acc: 0.9204\n",
            "Epoch 9/9\n",
            "54/54 [==============================] - 10s 183ms/step - loss: 0.2767 - acc: 0.9025 - val_loss: 0.2521 - val_acc: 0.9292\n"
          ],
          "name": "stdout"
        }
      ]
    },
    {
      "cell_type": "code",
      "metadata": {
        "colab": {
          "base_uri": "https://localhost:8080/",
          "height": 545
        },
        "id": "9GcEnTnXFJl6",
        "outputId": "b2451aef-8dc8-4094-acd6-89a0e3bd3b4e"
      },
      "source": [
        "printfun(history2)"
      ],
      "execution_count": null,
      "outputs": [
        {
          "output_type": "display_data",
          "data": {
            "image/png": "[encoded data removed]",
            "text/plain": [
              "<Figure size 432x288 with 1 Axes>"
            ]
          },
          "metadata": {
            "tags": [],
            "needs_background": "light"
          }
        },
        {
          "output_type": "display_data",
          "data": {
            "image/png": "[encoded data removed]",
            "text/plain": [
              "<Figure size 432x288 with 1 Axes>"
            ]
          },
          "metadata": {
            "tags": [],
            "needs_background": "light"
          }
        }
      ]
    },
    {
      "cell_type": "code",
      "metadata": {
        "colab": {
          "base_uri": "https://localhost:8080/"
        },
        "id": "1XPe6_Mf1n0v",
        "outputId": "b0033de3-9ab0-4938-8000-a9befb2773b3"
      },
      "source": [
        "# VGG16 model with data augmentation and with normalization, and batch size 32\n",
        "from keras.applications.vgg16 import VGG16\n",
        "from keras.models import Model\n",
        "from keras.layers import Dense\n",
        "from keras.layers import Flatten\n",
        "from keras.optimizers import SGD\n",
        "from keras.preprocessing.image import ImageDataGenerator\n",
        "from keras.layers import Dropout \n",
        "\n",
        "\n",
        "#have the mean pixel values from each channel (red, green, and blue) as calculated on the ImageNet training dataset subtracted from the input.\n",
        "#setting the “featurewise_center” argument to “True” and manually specifying the mean pixel values to use when centering as the mean values from the ImageNet training dataset: [123.68, 116.779, 103.939].\n",
        "train_datagen = ImageDataGenerator(\n",
        "    featurewise_center=True,\n",
        "    rotation_range=40,\n",
        "    width_shift_range=0.2,\n",
        "    height_shift_range=0.2,\n",
        "    shear_range=0.2,\n",
        "    zoom_range=0.2,\n",
        "    horizontal_flip=True,)\n",
        "\n",
        "\n",
        "train_generator = train_datagen.flow_from_directory(\n",
        "        train_dir,  \n",
        "        target_size=(224, 224),  \n",
        "        batch_size=32,\n",
        "        class_mode='categorical')\n",
        "    \n",
        "\n",
        "val_datagen = ImageDataGenerator(featurewise_center=True)\n",
        "\n",
        "validation_generator = val_datagen.flow_from_directory(\n",
        "    validation_dir,\n",
        "    target_size=(224, 224),\n",
        "    batch_size=32,\n",
        "    class_mode='categorical')\n",
        "\n",
        "model2 = VGG16(include_top=False, input_shape=(224, 224, 3))\n",
        "\t# mark loaded layers as not trainable\n",
        "for layer in model2.layers:\n",
        "\tlayer.trainable = False\n",
        "\t# add new classifier layers\n",
        "flat1 = Flatten()(model2.layers[-1].output)\n",
        "flat1=Dropout(0.5)(flat1)\n",
        "class1 = Dense(128, activation='relu', kernel_initializer='he_uniform')(flat1)\n",
        "output = Dense(4, activation='softmax')(class1) #there are 4 categories so in the last layer we have 4 vertexes and we use softmax.\n",
        "# define new model\n",
        "model2 = Model(inputs=model2.inputs, outputs=output)\n",
        "# compile model\n",
        "opt = SGD(lr=0.001, momentum=0.9)\n",
        "\n",
        "\n",
        "model2.compile(optimizer=opt, loss='categorical_crossentropy', metrics=['accuracy'])\n",
        " \n",
        "history3 = model2.fit(\n",
        "      train_generator,\n",
        "      steps_per_epoch=28,\n",
        "      epochs=15,\n",
        "      validation_data=validation_generator,\n",
        "      validation_steps=7,\n",
        "      verbose=1)"
      ],
      "execution_count": null,
      "outputs": [
        {
          "output_type": "stream",
          "text": [
            "Found 899 images belonging to 4 classes.\n",
            "Found 226 images belonging to 4 classes.\n"
          ],
          "name": "stdout"
        },
        {
          "output_type": "stream",
          "text": [
            "/usr/local/lib/python3.7/dist-packages/tensorflow/python/keras/optimizer_v2/optimizer_v2.py:375: UserWarning: The `lr` argument is deprecated, use `learning_rate` instead.\n",
            "  \"The `lr` argument is deprecated, use `learning_rate` instead.\")\n",
            "/usr/local/lib/python3.7/dist-packages/keras_preprocessing/image/image_data_generator.py:720: UserWarning: This ImageDataGenerator specifies `featurewise_center`, but it hasn't been fit on any training data. Fit it first by calling `.fit(numpy_data)`.\n",
            "  warnings.warn('This ImageDataGenerator specifies '\n"
          ],
          "name": "stderr"
        },
        {
          "output_type": "stream",
          "text": [
            "Epoch 1/15\n",
            "28/28 [==============================] - 17s 563ms/step - loss: 8.1172 - accuracy: 0.5970 - val_loss: 1.3464 - val_accuracy: 0.8304\n",
            "Epoch 2/15\n",
            "28/28 [==============================] - 15s 533ms/step - loss: 1.5725 - accuracy: 0.8284 - val_loss: 0.2720 - val_accuracy: 0.9152\n",
            "Epoch 3/15\n",
            "28/28 [==============================] - 15s 547ms/step - loss: 0.6739 - accuracy: 0.8143 - val_loss: 0.3051 - val_accuracy: 0.9196\n",
            "Epoch 4/15\n",
            "28/28 [==============================] - 15s 537ms/step - loss: 0.4616 - accuracy: 0.8488 - val_loss: 0.2715 - val_accuracy: 0.9330\n",
            "Epoch 5/15\n",
            "28/28 [==============================] - 15s 527ms/step - loss: 0.5663 - accuracy: 0.8460 - val_loss: 0.5642 - val_accuracy: 0.8929\n",
            "Epoch 6/15\n",
            "28/28 [==============================] - 15s 544ms/step - loss: 0.4632 - accuracy: 0.8635 - val_loss: 0.2317 - val_accuracy: 0.9196\n",
            "Epoch 7/15\n",
            "28/28 [==============================] - 15s 533ms/step - loss: 0.3772 - accuracy: 0.8801 - val_loss: 0.2292 - val_accuracy: 0.9464\n",
            "Epoch 8/15\n",
            "28/28 [==============================] - 15s 538ms/step - loss: 0.4388 - accuracy: 0.8997 - val_loss: 0.2251 - val_accuracy: 0.9196\n",
            "Epoch 9/15\n",
            "28/28 [==============================] - 15s 535ms/step - loss: 0.3899 - accuracy: 0.8852 - val_loss: 0.2395 - val_accuracy: 0.9241\n",
            "Epoch 10/15\n",
            "28/28 [==============================] - 15s 529ms/step - loss: 0.2466 - accuracy: 0.9219 - val_loss: 0.3070 - val_accuracy: 0.9062\n",
            "Epoch 11/15\n",
            "28/28 [==============================] - 15s 536ms/step - loss: 0.3178 - accuracy: 0.9125 - val_loss: 0.1606 - val_accuracy: 0.9554\n",
            "Epoch 12/15\n",
            "28/28 [==============================] - 15s 532ms/step - loss: 0.2731 - accuracy: 0.9076 - val_loss: 0.2423 - val_accuracy: 0.9509\n",
            "Epoch 13/15\n",
            "28/28 [==============================] - 15s 531ms/step - loss: 0.3240 - accuracy: 0.8945 - val_loss: 0.2357 - val_accuracy: 0.9464\n",
            "Epoch 14/15\n",
            "28/28 [==============================] - 15s 530ms/step - loss: 0.2917 - accuracy: 0.9189 - val_loss: 0.2503 - val_accuracy: 0.9420\n",
            "Epoch 15/15\n",
            "28/28 [==============================] - 15s 525ms/step - loss: 0.2165 - accuracy: 0.9323 - val_loss: 0.1404 - val_accuracy: 0.9554\n"
          ],
          "name": "stdout"
        }
      ]
    },
    {
      "cell_type": "code",
      "metadata": {
        "colab": {
          "base_uri": "https://localhost:8080/",
          "height": 561
        },
        "id": "pMd5XmYZ15Yd",
        "outputId": "b03fd27b-4091-4455-e798-1ed8c2b5dff5"
      },
      "source": [
        "# Retrieve a list of accuracy results on training and validation data\n",
        "  # sets for each training epoch\n",
        "acc = history3.history['accuracy']\n",
        "val_acc = history3.history['val_accuracy']\n",
        "\n",
        "# Retrieve a list of list results on training and validation data\n",
        "# sets for each training epoch\n",
        "loss = history3.history['loss']\n",
        "val_loss = history3.history['val_loss']\n",
        "\n",
        "# Get number of epochs\n",
        "epochs = range(len(acc))\n",
        "\n",
        "# Plot training and validation accuracy per epoch\n",
        "plt.plot(epochs, acc)\n",
        "plt.plot(epochs, val_acc)\n",
        "plt.title('Training and validation accuracy')\n",
        "\n",
        "plt.figure()\n",
        "\n",
        "# Plot training and validation loss per epoch\n",
        "plt.plot(epochs, loss)\n",
        "plt.plot(epochs, val_loss)\n",
        "plt.title('Training and validation loss')"
      ],
      "execution_count": null,
      "outputs": [
        {
          "output_type": "execute_result",
          "data": {
            "text/plain": [
              "Text(0.5, 1.0, 'Training and validation loss')"
            ]
          },
          "metadata": {
            "tags": []
          },
          "execution_count": 42
        },
        {
          "output_type": "display_data",
          "data": {
            "image/png": "[encoded data removed]",
            "text/plain": [
              "<Figure size 432x288 with 1 Axes>"
            ]
          },
          "metadata": {
            "tags": [],
            "needs_background": "light"
          }
        },
        {
          "output_type": "display_data",
          "data": {
            "image/png": "[encoded data removed]",
            "text/plain": [
              "<Figure size 432x288 with 1 Axes>"
            ]
          },
          "metadata": {
            "tags": [],
            "needs_background": "light"
          }
        }
      ]
    }
  ]
}